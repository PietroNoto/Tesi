{
 "cells": [
  {
   "cell_type": "markdown",
   "metadata": {},
   "source": [
    "### Lower case document content"
   ]
  },
  {
   "cell_type": "code",
   "execution_count": 72,
   "metadata": {},
   "outputs": [],
   "source": [
    "def decapitalize_content(pages: list[str]):\n",
    "\n",
    "    \"\"\"Turns document content into lower case\"\"\"\n",
    "\n",
    "    for p in pages:\n",
    "        p.page_content = p.page_content.lower()"
   ]
  },
  {
   "cell_type": "markdown",
   "metadata": {},
   "source": [
    "### Removes non ASCII characters"
   ]
  },
  {
   "cell_type": "code",
   "execution_count": 73,
   "metadata": {},
   "outputs": [],
   "source": [
    "import re\n",
    "\n",
    "def remove_non_ASCII(pages: list[str]):\n",
    "\n",
    "    \"\"\"Removes non ASCII characters from document. Not suitable for many non english languages \n",
    "    which have several non ASCII characters \"\"\"\n",
    "\n",
    "    for p in pages:\n",
    "        if \"non-en\" not in p.metadata[\"keywords\"]:\n",
    "            p.page_content = re.sub(r\"[^\\x00-\\x7F]+\", \"\", p.page_content)"
   ]
  },
  {
   "cell_type": "markdown",
   "metadata": {},
   "source": [
    "### Removes bulleted and numbered lists"
   ]
  },
  {
   "cell_type": "code",
   "execution_count": 74,
   "metadata": {},
   "outputs": [],
   "source": [
    "import re\n",
    "\n",
    "def remove_bullets(pages: list[str]):\n",
    "\n",
    "    \"\"\"Removes bullets from document \"\"\"\n",
    "\n",
    "    for p in pages:\n",
    "        p.page_content = re.sub(r\"^[→•\\-*✔●✗]\\s*\", \"\", p.page_content, flags = re.MULTILINE)\n",
    "        p.page_content = re.sub(r\"\\d+\\.(?=\\s*[a-zA-Z])\", \"\", p.page_content)"
   ]
  },
  {
   "cell_type": "markdown",
   "metadata": {},
   "source": [
    "### Removes multiple consecutive escape characters"
   ]
  },
  {
   "cell_type": "code",
   "execution_count": 75,
   "metadata": {},
   "outputs": [],
   "source": [
    "def remove_escape(pages: list[str]):\n",
    "\n",
    "    \"\"\"Turns multiple consecutive escape characters into a single white space\"\"\"\n",
    "    \n",
    "    for p in pages:\n",
    "        p.page_content = ' '.join(p.page_content.split())"
   ]
  },
  {
   "cell_type": "markdown",
   "metadata": {},
   "source": [
    "### Save processed chunks in JSON format"
   ]
  },
  {
   "cell_type": "code",
   "execution_count": 86,
   "metadata": {},
   "outputs": [],
   "source": [
    "from langchain_core.load import dumpd\n",
    "import json\n",
    "import os\n",
    "\n",
    "def save_chunks(pages: list, path: str):\n",
    "\n",
    "    # path = \"parsed_documents/PyMuPDFLoader - No OCR\"\n",
    "    # full_path = \"\"\n",
    "\n",
    "    # match type:\n",
    "    #     case \"r\":\n",
    "    #         full_path = path + \"/raw/chunk_\"\n",
    "    #     case \"c\":\n",
    "    #         full_path = path + \"/cleaned/chunk_\"\n",
    "    #     case _:\n",
    "    #         return\n",
    "    if not os.path.exists(path):\n",
    "        os.mkdir(path)\n",
    "    for chunk in range(len(pages)):\n",
    "        full_path = path + \"/\" + \"chunk_\" + str(chunk + 1)\n",
    "        with open(full_path, \"w\") as ser_file:\n",
    "            page_d = dumpd(pages[chunk])\n",
    "            json.dump(page_d, ser_file)"
   ]
  },
  {
   "cell_type": "markdown",
   "metadata": {},
   "source": [
    "### Load processed chunks (raw, cleaned)"
   ]
  },
  {
   "cell_type": "code",
   "execution_count": 10,
   "metadata": {},
   "outputs": [],
   "source": [
    "import os\n",
    "import json\n",
    "from langchain_core.load import load\n",
    "\n",
    "def load_chunks(path: str):\n",
    "\n",
    "    # path = \"parsed_documents/PyMuPDFLoader - No OCR\"\n",
    "    # full_path = \"\"\n",
    "    pages = []\n",
    "    # match type:\n",
    "    #     case \"r\": \n",
    "    #         full_path = path + \"/raw\"\n",
    "    #     case \"c\":\n",
    "    #         full_path = path + \"/cleaned\"\n",
    "    #     case _:\n",
    "    #         return None\n",
    "\n",
    "    try:   \n",
    "        for fname in os.listdir(path):\n",
    "            f = os.path.join(path, fname)\n",
    "            with open(f, \"r\") as file:\n",
    "                page = load(json.load(file))\n",
    "                pages.append(page)\n",
    "    \n",
    "    except FileNotFoundError:\n",
    "        return []\n",
    "    \n",
    "    return pages"
   ]
  },
  {
   "cell_type": "markdown",
   "metadata": {},
   "source": [
    "### Alter metadata (this step is document-specific and may change)"
   ]
  },
  {
   "cell_type": "code",
   "execution_count": null,
   "metadata": {},
   "outputs": [],
   "source": [
    "import pikepdf\n",
    "\n",
    "# This document is written in Spanish, so we decide to mark it into metadata\n",
    "pdf = pikepdf.Pdf.open(\"../sources/OMNI_DIGITAL_SPA_19_CLI_LAB_INTEGRATED_spagnolo.pdf\",\n",
    "                  allow_overwriting_input = True)\n",
    "    \n",
    "with pdf.open_metadata() as meta:\n",
    "    meta[\"keywords\"] = \"non-en\"\n",
    "    \n",
    "pdf.save(\"../sources/OMNI_DIGITAL_SPA_19_CLI_LAB_INTEGRATED_spagnolo.pdf\")"
   ]
  },
  {
   "cell_type": "markdown",
   "metadata": {},
   "source": [
    "### Get all file from source folder to be processed"
   ]
  },
  {
   "cell_type": "code",
   "execution_count": 12,
   "metadata": {},
   "outputs": [],
   "source": [
    "import os\n",
    "\n",
    "processed_files = [\n",
    "    'BEQ_2301_OVERALL_multi.pdf', \n",
    "    'CADCAM_BRA_22_Eng.pdf', \n",
    "    'IOS_Report_FR-IT-ES_rev17.pdf', \n",
    "    'OMNI_DIGITAL_EU_15_CLI_.pdf', \n",
    "    'OMNI_DIGITAL_EU_15_CLI_LAB_Executive_Summary_.pdf', \n",
    "    'OMNI_DIGITAL_EU_15_LAB_.pdf', \n",
    "    'OMNI_DIGITAL_EU_21_CLI_LAB_INTEGRATED_.pdf', \n",
    "    'OMNI-DIGITAL_ITA_17_CLI_.pdf', \n",
    "    'OMNI-DIGITAL_ITA_23_CLI_.pdf', \n",
    "    'OMNI_DIGITAL_ITA_19_CLI_LAB_INTEGRATED_.pdf', \n",
    "    'OMNI_DIGITAL_SPA_19_CLI_.pdf', \n",
    "    'OMNI_DIGITAL_SPA_19_CLI_LAB_INTEGRATED_spagnolo.pdf', \n",
    "    'OMNI_DIGITAL_SPA_19_LAB_.pdf'\n",
    "]\n",
    "# processed_files = []\n",
    "\n",
    "folder = \"../sources\"\n",
    "files = []\n",
    "\n",
    "for fname in os.listdir(folder):\n",
    "    complete_path = os.path.join(folder, fname)\n",
    "    if os.path.isfile(complete_path):\n",
    "        if fname not in processed_files:\n",
    "            files.append(complete_path)"
   ]
  },
  {
   "cell_type": "markdown",
   "metadata": {},
   "source": [
    "### Create text splitters"
   ]
  },
  {
   "cell_type": "code",
   "execution_count": 194,
   "metadata": {},
   "outputs": [],
   "source": [
    "from langchain_text_splitters import TokenTextSplitter\n",
    "\n",
    "chunking_type = \"page_chunking\"\n",
    "chunk_size = 256\n",
    "chunk_overlap = 100\n",
    "\n",
    "all_chunkings = {\n",
    "    \"page_chunking\": None,\n",
    "    \"fixed_number\": TokenTextSplitter(chunk_size = chunk_size, chunk_overlap = chunk_overlap)\n",
    "}"
   ]
  },
  {
   "cell_type": "markdown",
   "metadata": {},
   "source": [
    "### Parse documents and tables within into pages"
   ]
  },
  {
   "cell_type": "code",
   "execution_count": 195,
   "metadata": {},
   "outputs": [],
   "source": [
    "from langchain_community.document_loaders import PyMuPDFLoader\n",
    "\n",
    "path = \"chunkings/No OCR/\"\n",
    "\n",
    "if chunking_type == \"page_chunking\":\n",
    "    path = path + chunking_type + \"/cleaned\" \n",
    "else:\n",
    "    path = path + str(chunk_size) + \"_\" + str(chunk_overlap)\n",
    "    \n",
    "pages = load_chunks(path)\n",
    "\n",
    "text_splitter = all_chunkings[chunking_type]\n",
    "\n",
    "# Index new documents  \n",
    "new_pages = []\n",
    "\n",
    "for file in files:\n",
    "    loader = PyMuPDFLoader(file, extract_images = False)\n",
    "\n",
    "    if chunking_type == \"page_chunking\":\n",
    "        async for page in loader.alazy_load():\n",
    "            new_pages.append(page)\n",
    "            \n",
    "    else:\n",
    "        for page in loader.load_and_split(text_splitter = text_splitter):\n",
    "            new_pages.append(page)"
   ]
  },
  {
   "cell_type": "code",
   "execution_count": 196,
   "metadata": {},
   "outputs": [
    {
     "name": "stdout",
     "output_type": "stream",
     "text": [
      "1148\n",
      "0\n"
     ]
    }
   ],
   "source": [
    "print(len(pages))\n",
    "print(len(new_pages))"
   ]
  },
  {
   "cell_type": "markdown",
   "metadata": {},
   "source": [
    "### Pre-process content (text cleaning)"
   ]
  },
  {
   "cell_type": "code",
   "execution_count": 143,
   "metadata": {},
   "outputs": [],
   "source": [
    "# import copy\n",
    "\n",
    "# new_cleaned_pages = copy.deepcopy(new_pages)\n",
    "\n",
    "remove_non_ASCII(new_pages)\n",
    "decapitalize_content(new_pages)\n",
    "remove_bullets(new_pages)\n",
    "remove_escape(new_pages)"
   ]
  },
  {
   "cell_type": "markdown",
   "metadata": {},
   "source": [
    "### Merge new pages with existing ones and serialize"
   ]
  },
  {
   "cell_type": "code",
   "execution_count": 144,
   "metadata": {},
   "outputs": [],
   "source": [
    "pages += new_pages\n",
    "path = \"chunkings/No OCR/\" + str(chunk_size) + \"_\" + str(chunk_overlap)\n",
    "save_chunks(pages, path)\n",
    "\n",
    "# Update processed files list\n",
    "processed_files += [file.replace(folder + \"/\", \"\") for file in files]"
   ]
  },
  {
   "cell_type": "markdown",
   "metadata": {},
   "source": [
    "### Create embedding models"
   ]
  },
  {
   "cell_type": "code",
   "execution_count": null,
   "metadata": {},
   "outputs": [],
   "source": [
    "from langchain_ollama import OllamaEmbeddings\n",
    "from langchain_huggingface import HuggingFaceEmbeddings\n",
    "\n",
    "all_embeddings = {\n",
    "    \"llama3.2:1b\": OllamaEmbeddings(model = \"llama3.2:1b\"),\n",
    "     \n",
    "    \"llama3.2:3b\": OllamaEmbeddings(model = \"llama3.2:3b\"),\n",
    "     \n",
    "    \"gemma2b\": OllamaEmbeddings(model = \"llama3.2:1b\"),\n",
    "     \n",
    "    \"mpnet_base_v2\": HuggingFaceEmbeddings(model_name = \"sentence-transformers/all-mpnet-base-v2\"),\n",
    "     \n",
    "    \"minilm_l6\": HuggingFaceEmbeddings(model_name = \"sentence-transformers/all-MiniLM-l6-v2\"),\n",
    "    \n",
    "    \"minilm_l12\": HuggingFaceEmbeddings(model_name = \"sentence-transformers/all-MiniLM-L12-v2\")\n",
    "}"
   ]
  },
  {
   "cell_type": "markdown",
   "metadata": {},
   "source": [
    "### Create a vector store"
   ]
  },
  {
   "cell_type": "code",
   "execution_count": null,
   "metadata": {},
   "outputs": [],
   "source": [
    "from langchain_core.vectorstores import InMemoryVectorStore\n",
    "import os\n",
    "\n",
    "if chunking_type == \"page_chunking\":\n",
    "    chunking = chunking_type\n",
    "else:\n",
    "    chunking = str(chunk_size) + \"_\" + str(chunk_overlap)\n",
    "\n",
    "model_name = \"minilm_l12\"\n",
    "embeddings = all_embeddings[model_name]\n",
    "vector_store_path = \"models/No OCR/\" + model_name + \"/\" + chunking + \"/\" + model_name + \"_cleaned\"\n",
    "vector_store = None\n",
    "\n",
    "if os.path.exists(vector_store_path):\n",
    "    vector_store = InMemoryVectorStore.load(path = vector_store_path, embedding = embeddings)\n",
    "\n",
    "else: \n",
    "    vector_store = InMemoryVectorStore.from_documents(documents = pages, embedding = embeddings)\n",
    "    vector_store.dump(vector_store_path)"
   ]
  },
  {
   "cell_type": "markdown",
   "metadata": {},
   "source": [
    "### Define queries"
   ]
  },
  {
   "cell_type": "code",
   "execution_count": 192,
   "metadata": {},
   "outputs": [],
   "source": [
    "products = [\"Intra oral scanner\", \"3D printer\"]\n",
    "producers = [\"Dentsply Sirona\", \"Kavo\", \"3M\", \"GC\", \"Ivoclar\", \"Straumann\", \"Kulzer\", \"Voco\"]\n",
    "intervals = [1, 2, 3, 4]\n",
    "countries = [\"Italy\", \"Germany\", \"Spain\", \"UK\", \"United Kingdom\", \"Brazil\"]\n",
    "\n",
    "all_queries = [\n",
    "    \"Trend of inflation in the dental sector between 2021, 2022, and the first half of 2023\",\n",
    "    \"Dental product brands that offer the best value for money according to dentists\",\n",
    "    \"Which are the most relevant dental brands?\",\n",
    "    \"Which are the most recommended products?\",\n",
    "    \"What are the preferred purchasing channels in different countries?\",\n",
    "    f\"Evolution of {products[1]} adoption\",\n",
    "    f\"Which is the country where {products[0]} is most successful?\",\n",
    "    f\"Evolution of {producers[0]}'s loyalitization capability\",\n",
    "    f\"Evolution of {products[0]}'s market in the last {intervals[2]} years\",\n",
    "    f\"Difference in {products[1]} adoption between {countries[0]} and {countries[4]}\",\n",
    "]"
   ]
  },
  {
   "cell_type": "markdown",
   "metadata": {},
   "source": [
    "### Retrieve documents"
   ]
  },
  {
   "cell_type": "code",
   "execution_count": null,
   "metadata": {},
   "outputs": [],
   "source": [
    "query = all_queries[3]\n",
    "docs = vector_store.similarity_search_with_score(query, k = 4)\n",
    "\n",
    "print(\"Query: \" + query)\n",
    "for doc in docs:\n",
    "    print(doc[1])\n",
    "    print(\"Sorgente: \" + doc[0].metadata[\"source\"] + \", pagina: \" + str(doc[0].metadata[\"page\"]))\n",
    "    print(doc[0].page_content + \"\\n\")"
   ]
  },
  {
   "cell_type": "markdown",
   "metadata": {},
   "source": [
    "### Evaluate model on a list of queries"
   ]
  },
  {
   "cell_type": "code",
   "execution_count": null,
   "metadata": {},
   "outputs": [],
   "source": [
    "from statistics import mean, variance\n",
    "\n",
    "all_scores = []\n",
    "\n",
    "for query in all_queries:\n",
    "    docs_relevances = vector_store.similarity_search_with_score(query, k = 4)\n",
    "    all_scores.append(docs_relevances[0][1])\n",
    "\n",
    "avg = mean(all_scores)\n",
    "var = variance(all_scores, avg)\n",
    "\n",
    "print(f\"{avg:.3f}, {var:.3f}\")"
   ]
  },
  {
   "cell_type": "markdown",
   "metadata": {},
   "source": [
    "### Compute number of different retrieved chunks between two models"
   ]
  },
  {
   "cell_type": "code",
   "execution_count": null,
   "metadata": {},
   "outputs": [],
   "source": [
    "from langchain_core.vectorstores import InMemoryVectorStore\n",
    "\n",
    "model_name_1 = \"minilm-l6\"\n",
    "model_name_2 = \"minilm-l12\"\n",
    "embeddings_1 = all_embeddings[model_name_1][\"model\"]\n",
    "embeddings_2 = all_embeddings[model_name_2][\"model\"]\n",
    "\n",
    "vector_store_path_1 = all_embeddings[model_name_1][\"cleaned-path\"]\n",
    "vector_store_path_2 = all_embeddings[model_name_2][\"cleaned-path\"]\n",
    "\n",
    "vector_store_1 = InMemoryVectorStore.load(path = vector_store_path_1, embedding = embeddings_1)\n",
    "vector_store_2 = InMemoryVectorStore.load(path = vector_store_path_2, embedding = embeddings_2)\n",
    "\n",
    "diff = 0\n",
    "\n",
    "for query in all_queries:\n",
    "\n",
    "    chunks_1 = vector_store_1.similarity_search(query, k = 4)\n",
    "    chunks_2 = vector_store_2.similarity_search(query, k = 4)\n",
    "\n",
    "    chunks_mapped_1 = list(map(lambda c: (c.metadata[\"source\"], c.metadata[\"page\"]), chunks_1))\n",
    "    chunks_mapped_2 = list(map(lambda c: (c.metadata[\"source\"], c.metadata[\"page\"]), chunks_2))\n",
    "\n",
    "    diff += sum([1 for tuple in chunks_mapped_1 if tuple not in chunks_mapped_2])\n",
    "\n",
    "print(diff)"
   ]
  }
 ],
 "metadata": {
  "kernelspec": {
   "display_name": "my_pyenv",
   "language": "python",
   "name": "python3"
  },
  "language_info": {
   "codemirror_mode": {
    "name": "ipython",
    "version": 3
   },
   "file_extension": ".py",
   "mimetype": "text/x-python",
   "name": "python",
   "nbconvert_exporter": "python",
   "pygments_lexer": "ipython3",
   "version": "3.12.7"
  }
 },
 "nbformat": 4,
 "nbformat_minor": 2
}
