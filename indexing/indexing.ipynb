{
 "cells": [
  {
   "cell_type": "code",
   "execution_count": 190,
   "metadata": {},
   "outputs": [],
   "source": [
    "# External source folder path - for now let's use a sample pdf file\n",
    "sampleFile = \"../sources/BEQ_2301_OVERALL_multi.pdf\""
   ]
  },
  {
   "cell_type": "code",
   "execution_count": 191,
   "metadata": {},
   "outputs": [],
   "source": [
    "# Parse document into pages\n",
    "from langchain_community.document_loaders import PyMuPDFLoader\n",
    "loader = PyMuPDFLoader(sampleFile)\n",
    "pages = []"
   ]
  },
  {
   "cell_type": "code",
   "execution_count": 192,
   "metadata": {},
   "outputs": [],
   "source": [
    "async for page in loader.alazy_load():\n",
    "    pages.append(page)"
   ]
  },
  {
   "cell_type": "code",
   "execution_count": null,
   "metadata": {},
   "outputs": [],
   "source": [
    "# Text pre-processing\n",
    "import re\n",
    "\n",
    "for p in pages:\n",
    "    old_content = p.page_content\n",
    "\n",
    "    # remove bullets\n",
    "    cleaned_content = re.sub(r'^[→•\\-*✔●✗]\\s*', '', old_content, flags = re.MULTILINE)\n",
    "\n",
    "    # remove escape characters\n",
    "    cleaned_content = ' '.join(cleaned_content.split())\n",
    "    \n",
    "    # decapitalize text\n",
    "    cleaned_content = cleaned_content.lower()\n",
    "\n",
    "    p.page_content = cleaned_content\n",
    "\n",
    "for p in pages:\n",
    "    print(p.page_content)"
   ]
  },
  {
   "cell_type": "code",
   "execution_count": null,
   "metadata": {},
   "outputs": [],
   "source": [
    "print(pages[0].metadata)"
   ]
  }
 ],
 "metadata": {
  "kernelspec": {
   "display_name": "Python 3",
   "language": "python",
   "name": "python3"
  },
  "language_info": {
   "codemirror_mode": {
    "name": "ipython",
    "version": 3
   },
   "file_extension": ".py",
   "mimetype": "text/x-python",
   "name": "python",
   "nbconvert_exporter": "python",
   "pygments_lexer": "ipython3",
   "version": "3.12.6"
  }
 },
 "nbformat": 4,
 "nbformat_minor": 2
}
