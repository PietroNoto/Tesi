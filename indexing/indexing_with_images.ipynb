{
 "cells": [
  {
   "cell_type": "markdown",
   "metadata": {},
   "source": [
    "### Get all image descriptions from ChromaDB file"
   ]
  },
  {
   "cell_type": "code",
   "execution_count": 32,
   "metadata": {},
   "outputs": [],
   "source": [
    "import chromadb\n",
    "import json\n",
    "\n",
    "\n",
    "client = chromadb.PersistentClient(path = \"chromadb\")\n",
    "\n",
    "collection = client.get_or_create_collection(\n",
    "    name = \"my_collection\", metadata = {\"hnsw:space\": \"cosine\"})\n",
    "\n",
    "image_descriptions = collection.get(where = {\"type\": \"image\"})[\"documents\"]\n",
    "ids = collection.get(where = {\"type\": \"image\"})[\"ids\"]\n",
    "\n",
    "ids = [id.replace(\"__\", \"_\") for id in ids]\n",
    "ids = [id.split(\"_page_\") for id in ids]\n",
    "ids = [{\"file\": id[0], \"page\": int(id[-1].split(\"_image_\")[0])} for id in ids]\n",
    "\n",
    "for j in range(len(ids)):\n",
    "    ids[j][\"image_description\"] = image_descriptions[j]\n",
    "\n",
    "with open(\"image_descriptions/image_descriptions.json\", \"w\") as f:\n",
    "    json.dump(ids, f)\n"
   ]
  }
 ],
 "metadata": {
  "kernelspec": {
   "display_name": "my_pyenv",
   "language": "python",
   "name": "python3"
  },
  "language_info": {
   "codemirror_mode": {
    "name": "ipython",
    "version": 3
   },
   "file_extension": ".py",
   "mimetype": "text/x-python",
   "name": "python",
   "nbconvert_exporter": "python",
   "pygments_lexer": "ipython3",
   "version": "3.12.7"
  }
 },
 "nbformat": 4,
 "nbformat_minor": 2
}
